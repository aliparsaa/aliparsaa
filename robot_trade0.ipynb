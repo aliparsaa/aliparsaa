{
  "nbformat": 4,
  "nbformat_minor": 0,
  "metadata": {
    "colab": {
      "name": "robot trade0.ipynb",
      "provenance": [],
      "authorship_tag": "ABX9TyPCXw25w4r4kSoqlXhBCV5c",
      "include_colab_link": true
    },
    "kernelspec": {
      "name": "python3",
      "display_name": "Python 3"
    },
    "language_info": {
      "name": "python"
    }
  },
  "cells": [
    {
      "cell_type": "markdown",
      "metadata": {
        "id": "view-in-github",
        "colab_type": "text"
      },
      "source": [
        "<a href=\"https://colab.research.google.com/github/aliparsaa/aliparsaa/blob/main/robot_trade0.ipynb\" target=\"_parent\"><img src=\"https://colab.research.google.com/assets/colab-badge.svg\" alt=\"Open In Colab\"/></a>"
      ]
    },
    {
      "cell_type": "code",
      "metadata": {
        "colab": {
          "base_uri": "https://localhost:8080/"
        },
        "id": "e1CrIaZkQxiB",
        "outputId": "de19f04b-de5e-4137-b45d-0166e3498443"
      },
      "source": [
        "!pip install tensorflow-gpu==1.15.0 tensorflow==1.15.0 stable-baselines gym-anaytrading gym"
      ],
      "execution_count": 1,
      "outputs": [
        {
          "output_type": "stream",
          "name": "stdout",
          "text": [
            "Collecting tensorflow-gpu==1.15.0\n",
            "  Downloading tensorflow_gpu-1.15.0-cp37-cp37m-manylinux2010_x86_64.whl (411.5 MB)\n",
            "\u001b[K     |████████████████████████████████| 411.5 MB 7.0 kB/s \n",
            "\u001b[?25hCollecting tensorflow==1.15.0\n",
            "  Downloading tensorflow-1.15.0-cp37-cp37m-manylinux2010_x86_64.whl (412.3 MB)\n",
            "\u001b[K     |████████████████████████████████| 412.3 MB 25 kB/s \n",
            "\u001b[?25hCollecting stable-baselines\n",
            "  Downloading stable_baselines-2.10.2-py3-none-any.whl (240 kB)\n",
            "\u001b[K     |████████████████████████████████| 240 kB 63.2 MB/s \n",
            "\u001b[31mERROR: Could not find a version that satisfies the requirement gym-anaytrading (from versions: none)\u001b[0m\n",
            "\u001b[31mERROR: No matching distribution found for gym-anaytrading\u001b[0m\n",
            "\u001b[?25h"
          ]
        }
      ]
    },
    {
      "cell_type": "code",
      "metadata": {
        "colab": {
          "base_uri": "https://localhost:8080/"
        },
        "id": "kxtVO1LnThjs",
        "outputId": "2e4ba7fe-66bd-447c-d3b9-e027cda659bc"
      },
      "source": [
        "!pip install stable-baselines[mpi]"
      ],
      "execution_count": 4,
      "outputs": [
        {
          "output_type": "stream",
          "name": "stdout",
          "text": [
            "Collecting stable-baselines[mpi]\n",
            "  Using cached stable_baselines-2.10.2-py3-none-any.whl (240 kB)\n",
            "Requirement already satisfied: gym[atari,classic_control]>=0.11 in /usr/local/lib/python3.7/dist-packages (from stable-baselines[mpi]) (0.17.3)\n",
            "Requirement already satisfied: pandas in /usr/local/lib/python3.7/dist-packages (from stable-baselines[mpi]) (1.1.5)\n",
            "Requirement already satisfied: matplotlib in /usr/local/lib/python3.7/dist-packages (from stable-baselines[mpi]) (3.2.2)\n",
            "Requirement already satisfied: joblib in /usr/local/lib/python3.7/dist-packages (from stable-baselines[mpi]) (1.0.1)\n",
            "Requirement already satisfied: opencv-python in /usr/local/lib/python3.7/dist-packages (from stable-baselines[mpi]) (4.1.2.30)\n",
            "Requirement already satisfied: scipy in /usr/local/lib/python3.7/dist-packages (from stable-baselines[mpi]) (1.4.1)\n",
            "Requirement already satisfied: numpy in /usr/local/lib/python3.7/dist-packages (from stable-baselines[mpi]) (1.19.5)\n",
            "Requirement already satisfied: cloudpickle>=0.5.5 in /usr/local/lib/python3.7/dist-packages (from stable-baselines[mpi]) (1.3.0)\n",
            "Collecting mpi4py\n",
            "  Downloading mpi4py-3.1.1.tar.gz (2.4 MB)\n",
            "\u001b[K     |████████████████████████████████| 2.4 MB 5.0 MB/s \n",
            "\u001b[?25h  Installing build dependencies ... \u001b[?25l\u001b[?25hdone\n",
            "  Getting requirements to build wheel ... \u001b[?25l\u001b[?25hdone\n",
            "    Preparing wheel metadata ... \u001b[?25l\u001b[?25hdone\n",
            "Requirement already satisfied: pyglet<=1.5.0,>=1.4.0 in /usr/local/lib/python3.7/dist-packages (from gym[atari,classic_control]>=0.11->stable-baselines[mpi]) (1.5.0)\n",
            "Requirement already satisfied: Pillow in /usr/local/lib/python3.7/dist-packages (from gym[atari,classic_control]>=0.11->stable-baselines[mpi]) (7.1.2)\n",
            "Requirement already satisfied: atari-py~=0.2.0 in /usr/local/lib/python3.7/dist-packages (from gym[atari,classic_control]>=0.11->stable-baselines[mpi]) (0.2.9)\n",
            "Requirement already satisfied: six in /usr/local/lib/python3.7/dist-packages (from atari-py~=0.2.0->gym[atari,classic_control]>=0.11->stable-baselines[mpi]) (1.15.0)\n",
            "Requirement already satisfied: future in /usr/local/lib/python3.7/dist-packages (from pyglet<=1.5.0,>=1.4.0->gym[atari,classic_control]>=0.11->stable-baselines[mpi]) (0.16.0)\n",
            "Requirement already satisfied: kiwisolver>=1.0.1 in /usr/local/lib/python3.7/dist-packages (from matplotlib->stable-baselines[mpi]) (1.3.2)\n",
            "Requirement already satisfied: pyparsing!=2.0.4,!=2.1.2,!=2.1.6,>=2.0.1 in /usr/local/lib/python3.7/dist-packages (from matplotlib->stable-baselines[mpi]) (2.4.7)\n",
            "Requirement already satisfied: python-dateutil>=2.1 in /usr/local/lib/python3.7/dist-packages (from matplotlib->stable-baselines[mpi]) (2.8.2)\n",
            "Requirement already satisfied: cycler>=0.10 in /usr/local/lib/python3.7/dist-packages (from matplotlib->stable-baselines[mpi]) (0.10.0)\n",
            "Requirement already satisfied: pytz>=2017.2 in /usr/local/lib/python3.7/dist-packages (from pandas->stable-baselines[mpi]) (2018.9)\n",
            "Building wheels for collected packages: mpi4py\n",
            "  Building wheel for mpi4py (PEP 517) ... \u001b[?25l\u001b[?25hdone\n",
            "  Created wheel for mpi4py: filename=mpi4py-3.1.1-cp37-cp37m-linux_x86_64.whl size=2180618 sha256=f07db83e0820e96c93073cac5b2960a3a7e68382625ba6cf294e4e0ac5ab1b71\n",
            "  Stored in directory: /root/.cache/pip/wheels/91/be/c0/2b0347be1de5cd8ca9fe67da7ec8c3fe8930fcb6b0df6f2255\n",
            "Successfully built mpi4py\n",
            "Installing collected packages: stable-baselines, mpi4py\n",
            "Successfully installed mpi4py-3.1.1 stable-baselines-2.10.2\n"
          ]
        }
      ]
    },
    {
      "cell_type": "code",
      "metadata": {
        "colab": {
          "base_uri": "https://localhost:8080/"
        },
        "id": "HORGhIq8SuJW",
        "outputId": "c3e16966-ff6e-4c5e-b3f5-5a16531f43a0"
      },
      "source": [
        "!pip install gym-anytrading"
      ],
      "execution_count": 2,
      "outputs": [
        {
          "output_type": "stream",
          "name": "stdout",
          "text": [
            "Collecting gym-anytrading\n",
            "  Downloading gym_anytrading-1.2.0-py3-none-any.whl (171 kB)\n",
            "\u001b[?25l\r\u001b[K     |██                              | 10 kB 16.7 MB/s eta 0:00:01\r\u001b[K     |███▉                            | 20 kB 23.2 MB/s eta 0:00:01\r\u001b[K     |█████▊                          | 30 kB 12.9 MB/s eta 0:00:01\r\u001b[K     |███████▋                        | 40 kB 9.4 MB/s eta 0:00:01\r\u001b[K     |█████████▌                      | 51 kB 5.1 MB/s eta 0:00:01\r\u001b[K     |███████████▌                    | 61 kB 5.2 MB/s eta 0:00:01\r\u001b[K     |█████████████▍                  | 71 kB 5.8 MB/s eta 0:00:01\r\u001b[K     |███████████████▎                | 81 kB 6.6 MB/s eta 0:00:01\r\u001b[K     |█████████████████▏              | 92 kB 4.7 MB/s eta 0:00:01\r\u001b[K     |███████████████████             | 102 kB 5.1 MB/s eta 0:00:01\r\u001b[K     |█████████████████████           | 112 kB 5.1 MB/s eta 0:00:01\r\u001b[K     |███████████████████████         | 122 kB 5.1 MB/s eta 0:00:01\r\u001b[K     |████████████████████████▉       | 133 kB 5.1 MB/s eta 0:00:01\r\u001b[K     |██████████████████████████▊     | 143 kB 5.1 MB/s eta 0:00:01\r\u001b[K     |████████████████████████████▋   | 153 kB 5.1 MB/s eta 0:00:01\r\u001b[K     |██████████████████████████████▌ | 163 kB 5.1 MB/s eta 0:00:01\r\u001b[K     |████████████████████████████████| 171 kB 5.1 MB/s \n",
            "\u001b[?25hRequirement already satisfied: matplotlib>=3.1.1 in /usr/local/lib/python3.7/dist-packages (from gym-anytrading) (3.2.2)\n",
            "Requirement already satisfied: pandas>=0.24.2 in /usr/local/lib/python3.7/dist-packages (from gym-anytrading) (1.1.5)\n",
            "Requirement already satisfied: numpy>=1.16.4 in /usr/local/lib/python3.7/dist-packages (from gym-anytrading) (1.19.5)\n",
            "Requirement already satisfied: gym>=0.12.5 in /usr/local/lib/python3.7/dist-packages (from gym-anytrading) (0.17.3)\n",
            "Requirement already satisfied: cloudpickle<1.7.0,>=1.2.0 in /usr/local/lib/python3.7/dist-packages (from gym>=0.12.5->gym-anytrading) (1.3.0)\n",
            "Requirement already satisfied: pyglet<=1.5.0,>=1.4.0 in /usr/local/lib/python3.7/dist-packages (from gym>=0.12.5->gym-anytrading) (1.5.0)\n",
            "Requirement already satisfied: scipy in /usr/local/lib/python3.7/dist-packages (from gym>=0.12.5->gym-anytrading) (1.4.1)\n",
            "Requirement already satisfied: pyparsing!=2.0.4,!=2.1.2,!=2.1.6,>=2.0.1 in /usr/local/lib/python3.7/dist-packages (from matplotlib>=3.1.1->gym-anytrading) (2.4.7)\n",
            "Requirement already satisfied: kiwisolver>=1.0.1 in /usr/local/lib/python3.7/dist-packages (from matplotlib>=3.1.1->gym-anytrading) (1.3.2)\n",
            "Requirement already satisfied: cycler>=0.10 in /usr/local/lib/python3.7/dist-packages (from matplotlib>=3.1.1->gym-anytrading) (0.10.0)\n",
            "Requirement already satisfied: python-dateutil>=2.1 in /usr/local/lib/python3.7/dist-packages (from matplotlib>=3.1.1->gym-anytrading) (2.8.2)\n",
            "Requirement already satisfied: six in /usr/local/lib/python3.7/dist-packages (from cycler>=0.10->matplotlib>=3.1.1->gym-anytrading) (1.15.0)\n",
            "Requirement already satisfied: pytz>=2017.2 in /usr/local/lib/python3.7/dist-packages (from pandas>=0.24.2->gym-anytrading) (2018.9)\n",
            "Requirement already satisfied: future in /usr/local/lib/python3.7/dist-packages (from pyglet<=1.5.0,>=1.4.0->gym>=0.12.5->gym-anytrading) (0.16.0)\n",
            "Installing collected packages: gym-anytrading\n",
            "Successfully installed gym-anytrading-1.2.0\n"
          ]
        }
      ]
    },
    {
      "cell_type": "code",
      "metadata": {
        "colab": {
          "base_uri": "https://localhost:8080/",
          "height": 1000
        },
        "id": "GHSbE-_PWWiK",
        "outputId": "adc571f1-0e21-4de0-c65f-9e8bd5dfe9bc"
      },
      "source": [
        "!pip install tensorflow==1.15\n"
      ],
      "execution_count": 7,
      "outputs": [
        {
          "output_type": "stream",
          "name": "stdout",
          "text": [
            "Collecting tensorflow==1.15\n",
            "  Using cached tensorflow-1.15.0-cp37-cp37m-manylinux2010_x86_64.whl (412.3 MB)\n",
            "Requirement already satisfied: opt-einsum>=2.3.2 in /usr/local/lib/python3.7/dist-packages (from tensorflow==1.15) (3.3.0)\n",
            "Requirement already satisfied: numpy<2.0,>=1.16.0 in /usr/local/lib/python3.7/dist-packages (from tensorflow==1.15) (1.19.5)\n",
            "Collecting tensorboard<1.16.0,>=1.15.0\n",
            "  Downloading tensorboard-1.15.0-py3-none-any.whl (3.8 MB)\n",
            "\u001b[K     |████████████████████████████████| 3.8 MB 4.9 MB/s \n",
            "\u001b[?25hRequirement already satisfied: six>=1.10.0 in /usr/local/lib/python3.7/dist-packages (from tensorflow==1.15) (1.15.0)\n",
            "Requirement already satisfied: absl-py>=0.7.0 in /usr/local/lib/python3.7/dist-packages (from tensorflow==1.15) (0.12.0)\n",
            "Requirement already satisfied: google-pasta>=0.1.6 in /usr/local/lib/python3.7/dist-packages (from tensorflow==1.15) (0.2.0)\n",
            "Requirement already satisfied: astor>=0.6.0 in /usr/local/lib/python3.7/dist-packages (from tensorflow==1.15) (0.8.1)\n",
            "Requirement already satisfied: grpcio>=1.8.6 in /usr/local/lib/python3.7/dist-packages (from tensorflow==1.15) (1.40.0)\n",
            "Collecting keras-applications>=1.0.8\n",
            "  Downloading Keras_Applications-1.0.8-py3-none-any.whl (50 kB)\n",
            "\u001b[K     |████████████████████████████████| 50 kB 4.9 MB/s \n",
            "\u001b[?25hRequirement already satisfied: wrapt>=1.11.1 in /usr/local/lib/python3.7/dist-packages (from tensorflow==1.15) (1.12.1)\n",
            "Requirement already satisfied: wheel>=0.26 in /usr/local/lib/python3.7/dist-packages (from tensorflow==1.15) (0.37.0)\n",
            "Collecting gast==0.2.2\n",
            "  Downloading gast-0.2.2.tar.gz (10 kB)\n",
            "Collecting tensorflow-estimator==1.15.1\n",
            "  Downloading tensorflow_estimator-1.15.1-py2.py3-none-any.whl (503 kB)\n",
            "\u001b[K     |████████████████████████████████| 503 kB 51.4 MB/s \n",
            "\u001b[?25hRequirement already satisfied: termcolor>=1.1.0 in /usr/local/lib/python3.7/dist-packages (from tensorflow==1.15) (1.1.0)\n",
            "Requirement already satisfied: keras-preprocessing>=1.0.5 in /usr/local/lib/python3.7/dist-packages (from tensorflow==1.15) (1.1.2)\n",
            "Requirement already satisfied: protobuf>=3.6.1 in /usr/local/lib/python3.7/dist-packages (from tensorflow==1.15) (3.17.3)\n",
            "Requirement already satisfied: h5py in /usr/local/lib/python3.7/dist-packages (from keras-applications>=1.0.8->tensorflow==1.15) (3.1.0)\n",
            "Requirement already satisfied: markdown>=2.6.8 in /usr/local/lib/python3.7/dist-packages (from tensorboard<1.16.0,>=1.15.0->tensorflow==1.15) (3.3.4)\n",
            "Requirement already satisfied: werkzeug>=0.11.15 in /usr/local/lib/python3.7/dist-packages (from tensorboard<1.16.0,>=1.15.0->tensorflow==1.15) (1.0.1)\n",
            "Requirement already satisfied: setuptools>=41.0.0 in /usr/local/lib/python3.7/dist-packages (from tensorboard<1.16.0,>=1.15.0->tensorflow==1.15) (57.4.0)\n",
            "Requirement already satisfied: importlib-metadata in /usr/local/lib/python3.7/dist-packages (from markdown>=2.6.8->tensorboard<1.16.0,>=1.15.0->tensorflow==1.15) (4.8.1)\n",
            "Requirement already satisfied: cached-property in /usr/local/lib/python3.7/dist-packages (from h5py->keras-applications>=1.0.8->tensorflow==1.15) (1.5.2)\n",
            "Requirement already satisfied: zipp>=0.5 in /usr/local/lib/python3.7/dist-packages (from importlib-metadata->markdown>=2.6.8->tensorboard<1.16.0,>=1.15.0->tensorflow==1.15) (3.5.0)\n",
            "Requirement already satisfied: typing-extensions>=3.6.4 in /usr/local/lib/python3.7/dist-packages (from importlib-metadata->markdown>=2.6.8->tensorboard<1.16.0,>=1.15.0->tensorflow==1.15) (3.7.4.3)\n",
            "Building wheels for collected packages: gast\n",
            "  Building wheel for gast (setup.py) ... \u001b[?25l\u001b[?25hdone\n",
            "  Created wheel for gast: filename=gast-0.2.2-py3-none-any.whl size=7554 sha256=b3ef982fdafa9f294b9eb5e21671c51c4b6cb20bd38f130b143af22d103379dd\n",
            "  Stored in directory: /root/.cache/pip/wheels/21/7f/02/420f32a803f7d0967b48dd823da3f558c5166991bfd204eef3\n",
            "Successfully built gast\n",
            "Installing collected packages: tensorflow-estimator, tensorboard, keras-applications, gast, tensorflow\n",
            "  Attempting uninstall: tensorflow-estimator\n",
            "    Found existing installation: tensorflow-estimator 2.6.0\n",
            "    Uninstalling tensorflow-estimator-2.6.0:\n",
            "      Successfully uninstalled tensorflow-estimator-2.6.0\n",
            "  Attempting uninstall: tensorboard\n",
            "    Found existing installation: tensorboard 2.6.0\n",
            "    Uninstalling tensorboard-2.6.0:\n",
            "      Successfully uninstalled tensorboard-2.6.0\n",
            "  Attempting uninstall: gast\n",
            "    Found existing installation: gast 0.4.0\n",
            "    Uninstalling gast-0.4.0:\n",
            "      Successfully uninstalled gast-0.4.0\n",
            "  Attempting uninstall: tensorflow\n",
            "    Found existing installation: tensorflow 2.6.0\n",
            "    Uninstalling tensorflow-2.6.0:\n",
            "      Successfully uninstalled tensorflow-2.6.0\n",
            "\u001b[31mERROR: pip's dependency resolver does not currently take into account all the packages that are installed. This behaviour is the source of the following dependency conflicts.\n",
            "tensorflow-probability 0.13.0 requires gast>=0.3.2, but you have gast 0.2.2 which is incompatible.\n",
            "kapre 0.3.5 requires tensorflow>=2.0.0, but you have tensorflow 1.15.0 which is incompatible.\u001b[0m\n",
            "Successfully installed gast-0.2.2 keras-applications-1.0.8 tensorboard-1.15.0 tensorflow-1.15.0 tensorflow-estimator-1.15.1\n"
          ]
        },
        {
          "output_type": "display_data",
          "data": {
            "application/vnd.colab-display-data+json": {
              "pip_warning": {
                "packages": [
                  "gast",
                  "tensorboard",
                  "tensorflow"
                ]
              }
            }
          },
          "metadata": {}
        }
      ]
    },
    {
      "cell_type": "code",
      "metadata": {
        "colab": {
          "base_uri": "https://localhost:8080/",
          "height": 331
        },
        "id": "Iy7YtJuQWigX",
        "outputId": "e6584c36-9357-4193-a720-73f8225d3d6b"
      },
      "source": [
        "import gym\n",
        "import gym_anytrading\n",
        "from gym_anytrading.envs import TradingEnv, ForexEnv, StocksEnv, Actions, Positions \n",
        "from gym_anytrading.datasets import FOREX_EURUSD_1H_ASK, STOCKS_GOOGL\n",
        "import matplotlib.pyplot as plt\n",
        "\n",
        "env = gym.make('forex-v0', frame_bound=(50, 100), window_size=10)\n",
        "# env = gym.make('stocks-v0', frame_bound=(50, 100), window_size=10)\n",
        "\n",
        "observation = env.reset()\n",
        "while True:\n",
        "    action = env.action_space.sample()\n",
        "    observation, reward, done, info = env.step(action)\n",
        "    # env.render()\n",
        "    if done:\n",
        "        print(\"info:\", info)\n",
        "        break\n",
        "\n",
        "plt.cla()\n",
        "env.render_all()\n",
        "plt.show()\n"
      ],
      "execution_count": 8,
      "outputs": [
        {
          "output_type": "stream",
          "name": "stdout",
          "text": [
            "info: {'total_reward': 185.39999999999554, 'total_profit': 0.996017551937167, 'position': 1}\n"
          ]
        },
        {
          "output_type": "display_data",
          "data": {
            "image/png": "[encoded data removed]",
            "text/plain": [
              "<Figure size 432x288 with 1 Axes>"
            ]
          },
          "metadata": {
            "needs_background": "light"
          }
        }
      ]
    },
    {
      "cell_type": "code",
      "metadata": {
        "id": "VmPH_fBOSLnb"
      },
      "source": [
        "import gym\n",
        "import gym_anytrading\n",
        "#stable baseline\n",
        "from gym_anytrading.envs import TradingEnv, ForexEnv, StocksEnv, Actions, Positions \n",
        "\n",
        "from stable_baselines.common.vec_env import DummyVecEnv\n",
        "#from stable_baselines import A2C\n",
        "import pandas as pd\n",
        "import numpy as np\n",
        "from matplotlib import pyplot as plt"
      ],
      "execution_count": 9,
      "outputs": []
    },
    {
      "cell_type": "code",
      "metadata": {
        "colab": {
          "base_uri": "https://localhost:8080/",
          "height": 287
        },
        "id": "olkocPtoaJwq",
        "outputId": "530a21bc-4e9c-45de-b56c-12eaa0bbcbc5"
      },
      "source": [
        "df=pd.read_csv('BTC-USD.csv')\n",
        "df.head()"
      ],
      "execution_count": 10,
      "outputs": [
        {
          "output_type": "execute_result",
          "data": {
            "text/html": [
              "<div>\n",
              "<style scoped>\n",
              "    .dataframe tbody tr th:only-of-type {\n",
              "        vertical-align: middle;\n",
              "    }\n",
              "\n",
              "    .dataframe tbody tr th {\n",
              "        vertical-align: top;\n",
              "    }\n",
              "\n",
              "    .dataframe thead th {\n",
              "        text-align: right;\n",
              "    }\n",
              "</style>\n",
              "<table border=\"1\" class=\"dataframe\">\n",
              "  <thead>\n",
              "    <tr style=\"text-align: right;\">\n",
              "      <th></th>\n",
              "      <th>Date</th>\n",
              "      <th>Open</th>\n",
              "      <th>High</th>\n",
              "      <th>Low</th>\n",
              "      <th>Close</th>\n",
              "      <th>Adj Close</th>\n",
              "      <th>Volume</th>\n",
              "    </tr>\n",
              "  </thead>\n",
              "  <tbody>\n",
              "    <tr>\n",
              "      <th>0</th>\n",
              "      <td>2017-10-23</td>\n",
              "      <td>6006.000000</td>\n",
              "      <td>6075.589844</td>\n",
              "      <td>5732.470215</td>\n",
              "      <td>5930.319824</td>\n",
              "      <td>5930.319824</td>\n",
              "      <td>2.401840e+09</td>\n",
              "    </tr>\n",
              "    <tr>\n",
              "      <th>1</th>\n",
              "      <td>2017-10-24</td>\n",
              "      <td>5935.520020</td>\n",
              "      <td>5935.520020</td>\n",
              "      <td>5504.180176</td>\n",
              "      <td>5526.640137</td>\n",
              "      <td>5526.640137</td>\n",
              "      <td>2.735700e+09</td>\n",
              "    </tr>\n",
              "    <tr>\n",
              "      <th>2</th>\n",
              "      <td>2017-10-25</td>\n",
              "      <td>5524.600098</td>\n",
              "      <td>5754.330078</td>\n",
              "      <td>5397.879883</td>\n",
              "      <td>5750.799805</td>\n",
              "      <td>5750.799805</td>\n",
              "      <td>1.966990e+09</td>\n",
              "    </tr>\n",
              "    <tr>\n",
              "      <th>3</th>\n",
              "      <td>2017-10-26</td>\n",
              "      <td>5747.950195</td>\n",
              "      <td>5976.799805</td>\n",
              "      <td>5721.220215</td>\n",
              "      <td>5904.830078</td>\n",
              "      <td>5904.830078</td>\n",
              "      <td>1.905040e+09</td>\n",
              "    </tr>\n",
              "    <tr>\n",
              "      <th>4</th>\n",
              "      <td>2017-10-27</td>\n",
              "      <td>5899.740234</td>\n",
              "      <td>5988.390137</td>\n",
              "      <td>5728.819824</td>\n",
              "      <td>5780.899902</td>\n",
              "      <td>5780.899902</td>\n",
              "      <td>1.710130e+09</td>\n",
              "    </tr>\n",
              "  </tbody>\n",
              "</table>\n",
              "</div>"
            ],
            "text/plain": [
              "         Date         Open         High  ...        Close    Adj Close        Volume\n",
              "0  2017-10-23  6006.000000  6075.589844  ...  5930.319824  5930.319824  2.401840e+09\n",
              "1  2017-10-24  5935.520020  5935.520020  ...  5526.640137  5526.640137  2.735700e+09\n",
              "2  2017-10-25  5524.600098  5754.330078  ...  5750.799805  5750.799805  1.966990e+09\n",
              "3  2017-10-26  5747.950195  5976.799805  ...  5904.830078  5904.830078  1.905040e+09\n",
              "4  2017-10-27  5899.740234  5988.390137  ...  5780.899902  5780.899902  1.710130e+09\n",
              "\n",
              "[5 rows x 7 columns]"
            ]
          },
          "metadata": {},
          "execution_count": 10
        }
      ]
    },
    {
      "cell_type": "code",
      "metadata": {
        "colab": {
          "base_uri": "https://localhost:8080/"
        },
        "id": "p-f0AWQ2TLoJ",
        "outputId": "5b03b6c2-833a-49f8-fee7-426bc843cef3"
      },
      "source": [
        "df.dtypes"
      ],
      "execution_count": 11,
      "outputs": [
        {
          "output_type": "execute_result",
          "data": {
            "text/plain": [
              "Date          object\n",
              "Open         float64\n",
              "High         float64\n",
              "Low          float64\n",
              "Close        float64\n",
              "Adj Close    float64\n",
              "Volume       float64\n",
              "dtype: object"
            ]
          },
          "metadata": {},
          "execution_count": 11
        }
      ]
    },
    {
      "cell_type": "code",
      "metadata": {
        "colab": {
          "base_uri": "https://localhost:8080/",
          "height": 605
        },
        "id": "sTG_SMVnaqZ6",
        "outputId": "b324f6ea-42e5-4372-fae4-2bfb71204be5"
      },
      "source": [
        "df['Date']=pd.to_datetime(df['Date'])\n",
        "df"
      ],
      "execution_count": 16,
      "outputs": [
        {
          "output_type": "execute_result",
          "data": {
            "text/html": [
              "<div>\n",
              "<style scoped>\n",
              "    .dataframe tbody tr th:only-of-type {\n",
              "        vertical-align: middle;\n",
              "    }\n",
              "\n",
              "    .dataframe tbody tr th {\n",
              "        vertical-align: top;\n",
              "    }\n",
              "\n",
              "    .dataframe thead th {\n",
              "        text-align: right;\n",
              "    }\n",
              "</style>\n",
              "<table border=\"1\" class=\"dataframe\">\n",
              "  <thead>\n",
              "    <tr style=\"text-align: right;\">\n",
              "      <th></th>\n",
              "      <th>Date</th>\n",
              "      <th>Open</th>\n",
              "      <th>High</th>\n",
              "      <th>Low</th>\n",
              "      <th>Close</th>\n",
              "      <th>Adj Close</th>\n",
              "      <th>Volume</th>\n",
              "    </tr>\n",
              "  </thead>\n",
              "  <tbody>\n",
              "    <tr>\n",
              "      <th>0</th>\n",
              "      <td>2017-10-23</td>\n",
              "      <td>6006.000000</td>\n",
              "      <td>6075.589844</td>\n",
              "      <td>5732.470215</td>\n",
              "      <td>5930.319824</td>\n",
              "      <td>5930.319824</td>\n",
              "      <td>2.401840e+09</td>\n",
              "    </tr>\n",
              "    <tr>\n",
              "      <th>1</th>\n",
              "      <td>2017-10-24</td>\n",
              "      <td>5935.520020</td>\n",
              "      <td>5935.520020</td>\n",
              "      <td>5504.180176</td>\n",
              "      <td>5526.640137</td>\n",
              "      <td>5526.640137</td>\n",
              "      <td>2.735700e+09</td>\n",
              "    </tr>\n",
              "    <tr>\n",
              "      <th>2</th>\n",
              "      <td>2017-10-25</td>\n",
              "      <td>5524.600098</td>\n",
              "      <td>5754.330078</td>\n",
              "      <td>5397.879883</td>\n",
              "      <td>5750.799805</td>\n",
              "      <td>5750.799805</td>\n",
              "      <td>1.966990e+09</td>\n",
              "    </tr>\n",
              "    <tr>\n",
              "      <th>3</th>\n",
              "      <td>2017-10-26</td>\n",
              "      <td>5747.950195</td>\n",
              "      <td>5976.799805</td>\n",
              "      <td>5721.220215</td>\n",
              "      <td>5904.830078</td>\n",
              "      <td>5904.830078</td>\n",
              "      <td>1.905040e+09</td>\n",
              "    </tr>\n",
              "    <tr>\n",
              "      <th>4</th>\n",
              "      <td>2017-10-27</td>\n",
              "      <td>5899.740234</td>\n",
              "      <td>5988.390137</td>\n",
              "      <td>5728.819824</td>\n",
              "      <td>5780.899902</td>\n",
              "      <td>5780.899902</td>\n",
              "      <td>1.710130e+09</td>\n",
              "    </tr>\n",
              "    <tr>\n",
              "      <th>...</th>\n",
              "      <td>...</td>\n",
              "      <td>...</td>\n",
              "      <td>...</td>\n",
              "      <td>...</td>\n",
              "      <td>...</td>\n",
              "      <td>...</td>\n",
              "      <td>...</td>\n",
              "    </tr>\n",
              "    <tr>\n",
              "      <th>1427</th>\n",
              "      <td>2021-09-19</td>\n",
              "      <td>48268.855469</td>\n",
              "      <td>48328.367188</td>\n",
              "      <td>46919.804688</td>\n",
              "      <td>47260.218750</td>\n",
              "      <td>47260.218750</td>\n",
              "      <td>2.696772e+10</td>\n",
              "    </tr>\n",
              "    <tr>\n",
              "      <th>1428</th>\n",
              "      <td>2021-09-20</td>\n",
              "      <td>47261.406250</td>\n",
              "      <td>47328.199219</td>\n",
              "      <td>42598.914063</td>\n",
              "      <td>42843.800781</td>\n",
              "      <td>42843.800781</td>\n",
              "      <td>4.390985e+10</td>\n",
              "    </tr>\n",
              "    <tr>\n",
              "      <th>1429</th>\n",
              "      <td>2021-09-21</td>\n",
              "      <td>43012.234375</td>\n",
              "      <td>43607.609375</td>\n",
              "      <td>39787.609375</td>\n",
              "      <td>40693.675781</td>\n",
              "      <td>40693.675781</td>\n",
              "      <td>4.870109e+10</td>\n",
              "    </tr>\n",
              "    <tr>\n",
              "      <th>1430</th>\n",
              "      <td>2021-09-22</td>\n",
              "      <td>40677.953125</td>\n",
              "      <td>43978.621094</td>\n",
              "      <td>40625.632813</td>\n",
              "      <td>43574.507813</td>\n",
              "      <td>43574.507813</td>\n",
              "      <td>3.813971e+10</td>\n",
              "    </tr>\n",
              "    <tr>\n",
              "      <th>1431</th>\n",
              "      <td>2021-09-23</td>\n",
              "      <td>43551.960938</td>\n",
              "      <td>44316.500000</td>\n",
              "      <td>43182.218750</td>\n",
              "      <td>43650.906250</td>\n",
              "      <td>43650.906250</td>\n",
              "      <td>3.738694e+10</td>\n",
              "    </tr>\n",
              "  </tbody>\n",
              "</table>\n",
              "<p>1432 rows × 7 columns</p>\n",
              "</div>"
            ],
            "text/plain": [
              "           Date          Open  ...     Adj Close        Volume\n",
              "0    2017-10-23   6006.000000  ...   5930.319824  2.401840e+09\n",
              "1    2017-10-24   5935.520020  ...   5526.640137  2.735700e+09\n",
              "2    2017-10-25   5524.600098  ...   5750.799805  1.966990e+09\n",
              "3    2017-10-26   5747.950195  ...   5904.830078  1.905040e+09\n",
              "4    2017-10-27   5899.740234  ...   5780.899902  1.710130e+09\n",
              "...         ...           ...  ...           ...           ...\n",
              "1427 2021-09-19  48268.855469  ...  47260.218750  2.696772e+10\n",
              "1428 2021-09-20  47261.406250  ...  42843.800781  4.390985e+10\n",
              "1429 2021-09-21  43012.234375  ...  40693.675781  4.870109e+10\n",
              "1430 2021-09-22  40677.953125  ...  43574.507813  3.813971e+10\n",
              "1431 2021-09-23  43551.960938  ...  43650.906250  3.738694e+10\n",
              "\n",
              "[1432 rows x 7 columns]"
            ]
          },
          "metadata": {},
          "execution_count": 16
        }
      ]
    },
    {
      "cell_type": "code",
      "metadata": {
        "colab": {
          "base_uri": "https://localhost:8080/",
          "height": 287
        },
        "id": "0pacOQY7bbEQ",
        "outputId": "04701a5e-ccae-4a45-cb97-158a84d24d86"
      },
      "source": [
        "df.head()"
      ],
      "execution_count": 18,
      "outputs": [
        {
          "output_type": "execute_result",
          "data": {
            "text/html": [
              "<div>\n",
              "<style scoped>\n",
              "    .dataframe tbody tr th:only-of-type {\n",
              "        vertical-align: middle;\n",
              "    }\n",
              "\n",
              "    .dataframe tbody tr th {\n",
              "        vertical-align: top;\n",
              "    }\n",
              "\n",
              "    .dataframe thead th {\n",
              "        text-align: right;\n",
              "    }\n",
              "</style>\n",
              "<table border=\"1\" class=\"dataframe\">\n",
              "  <thead>\n",
              "    <tr style=\"text-align: right;\">\n",
              "      <th></th>\n",
              "      <th>Date</th>\n",
              "      <th>Open</th>\n",
              "      <th>High</th>\n",
              "      <th>Low</th>\n",
              "      <th>Close</th>\n",
              "      <th>Adj Close</th>\n",
              "      <th>Volume</th>\n",
              "    </tr>\n",
              "  </thead>\n",
              "  <tbody>\n",
              "    <tr>\n",
              "      <th>0</th>\n",
              "      <td>2017-10-23</td>\n",
              "      <td>6006.000000</td>\n",
              "      <td>6075.589844</td>\n",
              "      <td>5732.470215</td>\n",
              "      <td>5930.319824</td>\n",
              "      <td>5930.319824</td>\n",
              "      <td>2.401840e+09</td>\n",
              "    </tr>\n",
              "    <tr>\n",
              "      <th>1</th>\n",
              "      <td>2017-10-24</td>\n",
              "      <td>5935.520020</td>\n",
              "      <td>5935.520020</td>\n",
              "      <td>5504.180176</td>\n",
              "      <td>5526.640137</td>\n",
              "      <td>5526.640137</td>\n",
              "      <td>2.735700e+09</td>\n",
              "    </tr>\n",
              "    <tr>\n",
              "      <th>2</th>\n",
              "      <td>2017-10-25</td>\n",
              "      <td>5524.600098</td>\n",
              "      <td>5754.330078</td>\n",
              "      <td>5397.879883</td>\n",
              "      <td>5750.799805</td>\n",
              "      <td>5750.799805</td>\n",
              "      <td>1.966990e+09</td>\n",
              "    </tr>\n",
              "    <tr>\n",
              "      <th>3</th>\n",
              "      <td>2017-10-26</td>\n",
              "      <td>5747.950195</td>\n",
              "      <td>5976.799805</td>\n",
              "      <td>5721.220215</td>\n",
              "      <td>5904.830078</td>\n",
              "      <td>5904.830078</td>\n",
              "      <td>1.905040e+09</td>\n",
              "    </tr>\n",
              "    <tr>\n",
              "      <th>4</th>\n",
              "      <td>2017-10-27</td>\n",
              "      <td>5899.740234</td>\n",
              "      <td>5988.390137</td>\n",
              "      <td>5728.819824</td>\n",
              "      <td>5780.899902</td>\n",
              "      <td>5780.899902</td>\n",
              "      <td>1.710130e+09</td>\n",
              "    </tr>\n",
              "  </tbody>\n",
              "</table>\n",
              "</div>"
            ],
            "text/plain": [
              "        Date         Open         High  ...        Close    Adj Close        Volume\n",
              "0 2017-10-23  6006.000000  6075.589844  ...  5930.319824  5930.319824  2.401840e+09\n",
              "1 2017-10-24  5935.520020  5935.520020  ...  5526.640137  5526.640137  2.735700e+09\n",
              "2 2017-10-25  5524.600098  5754.330078  ...  5750.799805  5750.799805  1.966990e+09\n",
              "3 2017-10-26  5747.950195  5976.799805  ...  5904.830078  5904.830078  1.905040e+09\n",
              "4 2017-10-27  5899.740234  5988.390137  ...  5780.899902  5780.899902  1.710130e+09\n",
              "\n",
              "[5 rows x 7 columns]"
            ]
          },
          "metadata": {},
          "execution_count": 18
        }
      ]
    },
    {
      "cell_type": "code",
      "metadata": {
        "colab": {
          "base_uri": "https://localhost:8080/",
          "height": 234
        },
        "id": "bHQEh1vmbqpA",
        "outputId": "3ccfdf8d-1af8-4885-d36d-a927cb8977c5"
      },
      "source": [
        "df.set_index('Date', inplace=True)\n",
        "df.head()"
      ],
      "execution_count": 19,
      "outputs": [
        {
          "output_type": "execute_result",
          "data": {
            "text/html": [
              "<div>\n",
              "<style scoped>\n",
              "    .dataframe tbody tr th:only-of-type {\n",
              "        vertical-align: middle;\n",
              "    }\n",
              "\n",
              "    .dataframe tbody tr th {\n",
              "        vertical-align: top;\n",
              "    }\n",
              "\n",
              "    .dataframe thead th {\n",
              "        text-align: right;\n",
              "    }\n",
              "</style>\n",
              "<table border=\"1\" class=\"dataframe\">\n",
              "  <thead>\n",
              "    <tr style=\"text-align: right;\">\n",
              "      <th></th>\n",
              "      <th>Open</th>\n",
              "      <th>High</th>\n",
              "      <th>Low</th>\n",
              "      <th>Close</th>\n",
              "      <th>Adj Close</th>\n",
              "      <th>Volume</th>\n",
              "    </tr>\n",
              "    <tr>\n",
              "      <th>Date</th>\n",
              "      <th></th>\n",
              "      <th></th>\n",
              "      <th></th>\n",
              "      <th></th>\n",
              "      <th></th>\n",
              "      <th></th>\n",
              "    </tr>\n",
              "  </thead>\n",
              "  <tbody>\n",
              "    <tr>\n",
              "      <th>2017-10-23</th>\n",
              "      <td>6006.000000</td>\n",
              "      <td>6075.589844</td>\n",
              "      <td>5732.470215</td>\n",
              "      <td>5930.319824</td>\n",
              "      <td>5930.319824</td>\n",
              "      <td>2.401840e+09</td>\n",
              "    </tr>\n",
              "    <tr>\n",
              "      <th>2017-10-24</th>\n",
              "      <td>5935.520020</td>\n",
              "      <td>5935.520020</td>\n",
              "      <td>5504.180176</td>\n",
              "      <td>5526.640137</td>\n",
              "      <td>5526.640137</td>\n",
              "      <td>2.735700e+09</td>\n",
              "    </tr>\n",
              "    <tr>\n",
              "      <th>2017-10-25</th>\n",
              "      <td>5524.600098</td>\n",
              "      <td>5754.330078</td>\n",
              "      <td>5397.879883</td>\n",
              "      <td>5750.799805</td>\n",
              "      <td>5750.799805</td>\n",
              "      <td>1.966990e+09</td>\n",
              "    </tr>\n",
              "    <tr>\n",
              "      <th>2017-10-26</th>\n",
              "      <td>5747.950195</td>\n",
              "      <td>5976.799805</td>\n",
              "      <td>5721.220215</td>\n",
              "      <td>5904.830078</td>\n",
              "      <td>5904.830078</td>\n",
              "      <td>1.905040e+09</td>\n",
              "    </tr>\n",
              "    <tr>\n",
              "      <th>2017-10-27</th>\n",
              "      <td>5899.740234</td>\n",
              "      <td>5988.390137</td>\n",
              "      <td>5728.819824</td>\n",
              "      <td>5780.899902</td>\n",
              "      <td>5780.899902</td>\n",
              "      <td>1.710130e+09</td>\n",
              "    </tr>\n",
              "  </tbody>\n",
              "</table>\n",
              "</div>"
            ],
            "text/plain": [
              "                   Open         High  ...    Adj Close        Volume\n",
              "Date                                  ...                           \n",
              "2017-10-23  6006.000000  6075.589844  ...  5930.319824  2.401840e+09\n",
              "2017-10-24  5935.520020  5935.520020  ...  5526.640137  2.735700e+09\n",
              "2017-10-25  5524.600098  5754.330078  ...  5750.799805  1.966990e+09\n",
              "2017-10-26  5747.950195  5976.799805  ...  5904.830078  1.905040e+09\n",
              "2017-10-27  5899.740234  5988.390137  ...  5780.899902  1.710130e+09\n",
              "\n",
              "[5 rows x 6 columns]"
            ]
          },
          "metadata": {},
          "execution_count": 19
        }
      ]
    },
    {
      "cell_type": "code",
      "metadata": {
        "colab": {
          "base_uri": "https://localhost:8080/"
        },
        "id": "cdSfS-v-cAvD",
        "outputId": "5b0f1ed0-27c7-4229-bc02-b65eb027e63d"
      },
      "source": [
        "env=gym.make('stocks-v0', df=df , frame_bound=(10,100),window_size=5)\n",
        "env.prices"
      ],
      "execution_count": 22,
      "outputs": [
        {
          "output_type": "execute_result",
          "data": {
            "text/plain": [
              "array([ 5753.089844,  6153.850098,  6130.529785,  6468.399902,\n",
              "        6767.310059,  7078.5     ,  7207.759766,  7379.950195,\n",
              "        7407.410156,  7022.759766,  7144.379883,  7459.689941,\n",
              "        7143.580078,  6618.140137,  6357.600098,  5950.069824,\n",
              "        6559.490234,  6635.75    ,  7315.540039,  7871.689941,\n",
              "        7708.990234,  7790.149902,  8036.490234,  8200.639648,\n",
              "        8071.259766,  8253.549805,  8038.77002 ,  8253.69043 ,\n",
              "        8790.919922,  9330.549805,  9818.349609, 10058.799805,\n",
              "        9888.610352, 10233.599609, 10975.599609, 11074.599609,\n",
              "       11323.200195, 11657.200195, 11916.700195, 14291.5     ,\n",
              "       17899.699219, 16569.400391, 15178.200195, 15455.400391,\n",
              "       16936.800781, 17415.400391, 16408.199219, 16564.      ,\n",
              "       17706.900391, 19497.400391, 19140.800781, 19114.199219,\n",
              "       17776.699219, 16624.599609, 15802.900391, 13831.799805,\n",
              "       14699.200195, 13925.799805, 14026.599609, 16099.799805,\n",
              "       15838.5     , 14606.5     , 14656.200195, 12952.200195,\n",
              "       14156.400391, 13657.200195, 14982.099609, 15201.      ,\n",
              "       15599.200195, 17429.5     , 17527.      , 16477.599609,\n",
              "       15170.099609, 14595.400391, 14973.299805, 13405.799805,\n",
              "       13980.599609, 14360.200195, 13772.      , 13819.799805,\n",
              "       11490.5     , 11188.599609, 11474.900391, 11607.400391,\n",
              "       12899.200195, 11600.099609, 10931.400391, 10868.400391,\n",
              "       11359.400391, 11259.400391, 11171.400391, 11440.700195,\n",
              "       11786.299805, 11296.400391, 10106.299805])"
            ]
          },
          "metadata": {},
          "execution_count": 22
        }
      ]
    },
    {
      "cell_type": "code",
      "metadata": {
        "colab": {
          "base_uri": "https://localhost:8080/"
        },
        "id": "KIuCZ0jAcycW",
        "outputId": "b617cd1d-712e-4232-d579-20d8cc6af0e5"
      },
      "source": [
        "env.signal_features"
      ],
      "execution_count": 23,
      "outputs": [
        {
          "output_type": "execute_result",
          "data": {
            "text/plain": [
              "array([[ 5753.089844,     0.      ],\n",
              "       [ 6153.850098,   400.760254],\n",
              "       [ 6130.529785,   -23.320313],\n",
              "       [ 6468.399902,   337.870117],\n",
              "       [ 6767.310059,   298.910157],\n",
              "       [ 7078.5     ,   311.189941],\n",
              "       [ 7207.759766,   129.259766],\n",
              "       [ 7379.950195,   172.190429],\n",
              "       [ 7407.410156,    27.459961],\n",
              "       [ 7022.759766,  -384.65039 ],\n",
              "       [ 7144.379883,   121.620117],\n",
              "       [ 7459.689941,   315.310058],\n",
              "       [ 7143.580078,  -316.109863],\n",
              "       [ 6618.140137,  -525.439941],\n",
              "       [ 6357.600098,  -260.540039],\n",
              "       [ 5950.069824,  -407.530274],\n",
              "       [ 6559.490234,   609.42041 ],\n",
              "       [ 6635.75    ,    76.259766],\n",
              "       [ 7315.540039,   679.790039],\n",
              "       [ 7871.689941,   556.149902],\n",
              "       [ 7708.990234,  -162.699707],\n",
              "       [ 7790.149902,    81.159668],\n",
              "       [ 8036.490234,   246.340332],\n",
              "       [ 8200.639648,   164.149414],\n",
              "       [ 8071.259766,  -129.379882],\n",
              "       [ 8253.549805,   182.290039],\n",
              "       [ 8038.77002 ,  -214.779785],\n",
              "       [ 8253.69043 ,   214.92041 ],\n",
              "       [ 8790.919922,   537.229492],\n",
              "       [ 9330.549805,   539.629883],\n",
              "       [ 9818.349609,   487.799804],\n",
              "       [10058.799805,   240.450196],\n",
              "       [ 9888.610352,  -170.189453],\n",
              "       [10233.599609,   344.989257],\n",
              "       [10975.599609,   742.      ],\n",
              "       [11074.599609,    99.      ],\n",
              "       [11323.200195,   248.600586],\n",
              "       [11657.200195,   334.      ],\n",
              "       [11916.700195,   259.5     ],\n",
              "       [14291.5     ,  2374.799805],\n",
              "       [17899.699219,  3608.199219],\n",
              "       [16569.400391, -1330.298828],\n",
              "       [15178.200195, -1391.200196],\n",
              "       [15455.400391,   277.200196],\n",
              "       [16936.800781,  1481.40039 ],\n",
              "       [17415.400391,   478.59961 ],\n",
              "       [16408.199219, -1007.201172],\n",
              "       [16564.      ,   155.800781],\n",
              "       [17706.900391,  1142.900391],\n",
              "       [19497.400391,  1790.5     ],\n",
              "       [19140.800781,  -356.59961 ],\n",
              "       [19114.199219,   -26.601562],\n",
              "       [17776.699219, -1337.5     ],\n",
              "       [16624.599609, -1152.09961 ],\n",
              "       [15802.900391,  -821.699218],\n",
              "       [13831.799805, -1971.100586],\n",
              "       [14699.200195,   867.40039 ],\n",
              "       [13925.799805,  -773.40039 ],\n",
              "       [14026.599609,   100.799804],\n",
              "       [16099.799805,  2073.200196],\n",
              "       [15838.5     ,  -261.299805],\n",
              "       [14606.5     , -1232.      ],\n",
              "       [14656.200195,    49.700195],\n",
              "       [12952.200195, -1704.      ],\n",
              "       [14156.400391,  1204.200196],\n",
              "       [13657.200195,  -499.200196],\n",
              "       [14982.099609,  1324.899414],\n",
              "       [15201.      ,   218.900391],\n",
              "       [15599.200195,   398.200195],\n",
              "       [17429.5     ,  1830.299805],\n",
              "       [17527.      ,    97.5     ],\n",
              "       [16477.599609, -1049.400391],\n",
              "       [15170.099609, -1307.5     ],\n",
              "       [14595.400391,  -574.699218],\n",
              "       [14973.299805,   377.899414],\n",
              "       [13405.799805, -1567.5     ],\n",
              "       [13980.599609,   574.799804],\n",
              "       [14360.200195,   379.600586],\n",
              "       [13772.      ,  -588.200195],\n",
              "       [13819.799805,    47.799805],\n",
              "       [11490.5     , -2329.299805],\n",
              "       [11188.599609,  -301.900391],\n",
              "       [11474.900391,   286.300782],\n",
              "       [11607.400391,   132.5     ],\n",
              "       [12899.200195,  1291.799804],\n",
              "       [11600.099609, -1299.100586],\n",
              "       [10931.400391,  -668.699218],\n",
              "       [10868.400391,   -63.      ],\n",
              "       [11359.400391,   491.      ],\n",
              "       [11259.400391,  -100.      ],\n",
              "       [11171.400391,   -88.      ],\n",
              "       [11440.700195,   269.299804],\n",
              "       [11786.299805,   345.59961 ],\n",
              "       [11296.400391,  -489.899414],\n",
              "       [10106.299805, -1190.100586]])"
            ]
          },
          "metadata": {},
          "execution_count": 23
        }
      ]
    },
    {
      "cell_type": "code",
      "metadata": {
        "id": "dmno_RETc7j9"
      },
      "source": [
        "state=env.reset()\n",
        "while True:\n",
        "  action=env.action_space.sample()\n",
        "  n_state, reward,done, info=env.step(action)\n",
        "  if done:\n",
        "    print(\"info\",info)\n",
        "    break \n",
        "plt.figure(figsize=(15,6))\n",
        "plt.cla()\n",
        "env.render_all()\n",
        "plt.show()  "
      ],
      "execution_count": null,
      "outputs": []
    },
    {
      "cell_type": "code",
      "metadata": {
        "id": "zyGbG8yBft4D"
      },
      "source": [
        "env_maker= lambda :gym.make('stocks-v0', df=df , frame_bound=(10,100),window_size=5)\n",
        "env=DummyVecEnv([env_maker])"
      ],
      "execution_count": 30,
      "outputs": []
    },
    {
      "cell_type": "code",
      "metadata": {
        "colab": {
          "base_uri": "https://localhost:8080/",
          "height": 387
        },
        "id": "VbosxGFPg4QG",
        "outputId": "1797a066-9881-449d-f907-e7b09325d451"
      },
      "source": [
        "#!pip install stable-baselines\n",
        "#!pip install tensorflow==1.14.0\n",
        "#!pip install stable-baselines[mpi]==2.10.0\n",
        "from stable_baselines import A2C"
      ],
      "execution_count": 38,
      "outputs": [
        {
          "output_type": "error",
          "ename": "AttributeError",
          "evalue": "ignored",
          "traceback": [
            "\u001b[0;31m---------------------------------------------------------------------------\u001b[0m",
            "\u001b[0;31mAttributeError\u001b[0m                            Traceback (most recent call last)",
            "\u001b[0;32m<ipython-input-38-c633dcf72032>\u001b[0m in \u001b[0;36m<module>\u001b[0;34m()\u001b[0m\n\u001b[1;32m      2\u001b[0m \u001b[0;31m#!pip install tensorflow==1.14.0\u001b[0m\u001b[0;34m\u001b[0m\u001b[0;34m\u001b[0m\u001b[0;34m\u001b[0m\u001b[0m\n\u001b[1;32m      3\u001b[0m \u001b[0;31m#!pip install stable-baselines[mpi]==2.10.0\u001b[0m\u001b[0;34m\u001b[0m\u001b[0;34m\u001b[0m\u001b[0;34m\u001b[0m\u001b[0m\n\u001b[0;32m----> 4\u001b[0;31m \u001b[0;32mfrom\u001b[0m \u001b[0mstable_baselines\u001b[0m \u001b[0;32mimport\u001b[0m \u001b[0mA2C\u001b[0m\u001b[0;34m\u001b[0m\u001b[0;34m\u001b[0m\u001b[0m\n\u001b[0m",
            "\u001b[0;32m/usr/local/lib/python3.7/dist-packages/stable_baselines/__init__.py\u001b[0m in \u001b[0;36m<module>\u001b[0;34m()\u001b[0m\n\u001b[1;32m      2\u001b[0m \u001b[0;32mfrom\u001b[0m \u001b[0mstable_baselines\u001b[0m\u001b[0;34m.\u001b[0m\u001b[0macer\u001b[0m \u001b[0;32mimport\u001b[0m \u001b[0mACER\u001b[0m\u001b[0;34m\u001b[0m\u001b[0;34m\u001b[0m\u001b[0m\n\u001b[1;32m      3\u001b[0m \u001b[0;32mfrom\u001b[0m \u001b[0mstable_baselines\u001b[0m\u001b[0;34m.\u001b[0m\u001b[0macktr\u001b[0m \u001b[0;32mimport\u001b[0m \u001b[0mACKTR\u001b[0m\u001b[0;34m\u001b[0m\u001b[0;34m\u001b[0m\u001b[0m\n\u001b[0;32m----> 4\u001b[0;31m \u001b[0;32mfrom\u001b[0m \u001b[0mstable_baselines\u001b[0m\u001b[0;34m.\u001b[0m\u001b[0mdeepq\u001b[0m \u001b[0;32mimport\u001b[0m \u001b[0mDQN\u001b[0m\u001b[0;34m\u001b[0m\u001b[0;34m\u001b[0m\u001b[0m\n\u001b[0m\u001b[1;32m      5\u001b[0m \u001b[0;32mfrom\u001b[0m \u001b[0mstable_baselines\u001b[0m\u001b[0;34m.\u001b[0m\u001b[0mher\u001b[0m \u001b[0;32mimport\u001b[0m \u001b[0mHER\u001b[0m\u001b[0;34m\u001b[0m\u001b[0;34m\u001b[0m\u001b[0m\n\u001b[1;32m      6\u001b[0m \u001b[0;32mfrom\u001b[0m \u001b[0mstable_baselines\u001b[0m\u001b[0;34m.\u001b[0m\u001b[0mppo2\u001b[0m \u001b[0;32mimport\u001b[0m \u001b[0mPPO2\u001b[0m\u001b[0;34m\u001b[0m\u001b[0;34m\u001b[0m\u001b[0m\n",
            "\u001b[0;32m/usr/local/lib/python3.7/dist-packages/stable_baselines/deepq/__init__.py\u001b[0m in \u001b[0;36m<module>\u001b[0;34m()\u001b[0m\n\u001b[0;32m----> 1\u001b[0;31m \u001b[0;32mfrom\u001b[0m \u001b[0mstable_baselines\u001b[0m\u001b[0;34m.\u001b[0m\u001b[0mdeepq\u001b[0m\u001b[0;34m.\u001b[0m\u001b[0mpolicies\u001b[0m \u001b[0;32mimport\u001b[0m \u001b[0mMlpPolicy\u001b[0m\u001b[0;34m,\u001b[0m \u001b[0mCnnPolicy\u001b[0m\u001b[0;34m,\u001b[0m \u001b[0mLnMlpPolicy\u001b[0m\u001b[0;34m,\u001b[0m \u001b[0mLnCnnPolicy\u001b[0m\u001b[0;34m\u001b[0m\u001b[0;34m\u001b[0m\u001b[0m\n\u001b[0m\u001b[1;32m      2\u001b[0m \u001b[0;32mfrom\u001b[0m \u001b[0mstable_baselines\u001b[0m\u001b[0;34m.\u001b[0m\u001b[0mdeepq\u001b[0m\u001b[0;34m.\u001b[0m\u001b[0mbuild_graph\u001b[0m \u001b[0;32mimport\u001b[0m \u001b[0mbuild_act\u001b[0m\u001b[0;34m,\u001b[0m \u001b[0mbuild_train\u001b[0m  \u001b[0;31m# noqa\u001b[0m\u001b[0;34m\u001b[0m\u001b[0;34m\u001b[0m\u001b[0m\n\u001b[1;32m      3\u001b[0m \u001b[0;32mfrom\u001b[0m \u001b[0mstable_baselines\u001b[0m\u001b[0;34m.\u001b[0m\u001b[0mdeepq\u001b[0m\u001b[0;34m.\u001b[0m\u001b[0mdqn\u001b[0m \u001b[0;32mimport\u001b[0m \u001b[0mDQN\u001b[0m\u001b[0;34m\u001b[0m\u001b[0;34m\u001b[0m\u001b[0m\n\u001b[1;32m      4\u001b[0m \u001b[0;32mfrom\u001b[0m \u001b[0mstable_baselines\u001b[0m\u001b[0;34m.\u001b[0m\u001b[0mcommon\u001b[0m\u001b[0;34m.\u001b[0m\u001b[0mbuffers\u001b[0m \u001b[0;32mimport\u001b[0m \u001b[0mReplayBuffer\u001b[0m\u001b[0;34m,\u001b[0m \u001b[0mPrioritizedReplayBuffer\u001b[0m  \u001b[0;31m# noqa\u001b[0m\u001b[0;34m\u001b[0m\u001b[0;34m\u001b[0m\u001b[0m\n\u001b[1;32m      5\u001b[0m \u001b[0;34m\u001b[0m\u001b[0m\n",
            "\u001b[0;32m/usr/local/lib/python3.7/dist-packages/stable_baselines/deepq/policies.py\u001b[0m in \u001b[0;36m<module>\u001b[0;34m()\u001b[0m\n\u001b[1;32m      1\u001b[0m \u001b[0;32mimport\u001b[0m \u001b[0mtensorflow\u001b[0m \u001b[0;32mas\u001b[0m \u001b[0mtf\u001b[0m\u001b[0;34m\u001b[0m\u001b[0;34m\u001b[0m\u001b[0m\n\u001b[0;32m----> 2\u001b[0;31m \u001b[0;32mimport\u001b[0m \u001b[0mtensorflow\u001b[0m\u001b[0;34m.\u001b[0m\u001b[0mcontrib\u001b[0m\u001b[0;34m.\u001b[0m\u001b[0mlayers\u001b[0m \u001b[0;32mas\u001b[0m \u001b[0mtf_layers\u001b[0m\u001b[0;34m\u001b[0m\u001b[0;34m\u001b[0m\u001b[0m\n\u001b[0m\u001b[1;32m      3\u001b[0m \u001b[0;32mimport\u001b[0m \u001b[0mnumpy\u001b[0m \u001b[0;32mas\u001b[0m \u001b[0mnp\u001b[0m\u001b[0;34m\u001b[0m\u001b[0;34m\u001b[0m\u001b[0m\n\u001b[1;32m      4\u001b[0m \u001b[0;32mfrom\u001b[0m \u001b[0mgym\u001b[0m\u001b[0;34m.\u001b[0m\u001b[0mspaces\u001b[0m \u001b[0;32mimport\u001b[0m \u001b[0mDiscrete\u001b[0m\u001b[0;34m\u001b[0m\u001b[0;34m\u001b[0m\u001b[0m\n\u001b[1;32m      5\u001b[0m \u001b[0;34m\u001b[0m\u001b[0m\n",
            "\u001b[0;32m/usr/local/lib/python3.7/dist-packages/tensorflow/contrib/__init__.py\u001b[0m in \u001b[0;36m<module>\u001b[0;34m()\u001b[0m\n\u001b[1;32m     29\u001b[0m \u001b[0;32mfrom\u001b[0m \u001b[0mtensorflow\u001b[0m\u001b[0;34m.\u001b[0m\u001b[0mcontrib\u001b[0m \u001b[0;32mimport\u001b[0m \u001b[0mcheckpoint\u001b[0m\u001b[0;34m\u001b[0m\u001b[0;34m\u001b[0m\u001b[0m\n\u001b[1;32m     30\u001b[0m \u001b[0;32mif\u001b[0m \u001b[0mos\u001b[0m\u001b[0;34m.\u001b[0m\u001b[0mname\u001b[0m \u001b[0;34m!=\u001b[0m \u001b[0;34m\"nt\"\u001b[0m \u001b[0;32mand\u001b[0m \u001b[0mplatform\u001b[0m\u001b[0;34m.\u001b[0m\u001b[0mmachine\u001b[0m\u001b[0;34m(\u001b[0m\u001b[0;34m)\u001b[0m \u001b[0;34m!=\u001b[0m \u001b[0;34m\"s390x\"\u001b[0m\u001b[0;34m:\u001b[0m\u001b[0;34m\u001b[0m\u001b[0;34m\u001b[0m\u001b[0m\n\u001b[0;32m---> 31\u001b[0;31m   \u001b[0;32mfrom\u001b[0m \u001b[0mtensorflow\u001b[0m\u001b[0;34m.\u001b[0m\u001b[0mcontrib\u001b[0m \u001b[0;32mimport\u001b[0m \u001b[0mcloud\u001b[0m\u001b[0;34m\u001b[0m\u001b[0;34m\u001b[0m\u001b[0m\n\u001b[0m\u001b[1;32m     32\u001b[0m \u001b[0;32mfrom\u001b[0m \u001b[0mtensorflow\u001b[0m\u001b[0;34m.\u001b[0m\u001b[0mcontrib\u001b[0m \u001b[0;32mimport\u001b[0m \u001b[0mcluster_resolver\u001b[0m\u001b[0;34m\u001b[0m\u001b[0;34m\u001b[0m\u001b[0m\n\u001b[1;32m     33\u001b[0m \u001b[0;32mfrom\u001b[0m \u001b[0mtensorflow\u001b[0m\u001b[0;34m.\u001b[0m\u001b[0mcontrib\u001b[0m \u001b[0;32mimport\u001b[0m \u001b[0mcompiler\u001b[0m\u001b[0;34m\u001b[0m\u001b[0;34m\u001b[0m\u001b[0m\n",
            "\u001b[0;32m/usr/local/lib/python3.7/dist-packages/tensorflow/contrib/cloud/__init__.py\u001b[0m in \u001b[0;36m<module>\u001b[0;34m()\u001b[0m\n\u001b[1;32m     22\u001b[0m \u001b[0;34m\u001b[0m\u001b[0m\n\u001b[1;32m     23\u001b[0m \u001b[0;31m# pylint: disable=line-too-long,wildcard-import,g-import-not-at-top\u001b[0m\u001b[0;34m\u001b[0m\u001b[0;34m\u001b[0m\u001b[0;34m\u001b[0m\u001b[0m\n\u001b[0;32m---> 24\u001b[0;31m \u001b[0;32mfrom\u001b[0m \u001b[0mtensorflow\u001b[0m\u001b[0;34m.\u001b[0m\u001b[0mcontrib\u001b[0m\u001b[0;34m.\u001b[0m\u001b[0mcloud\u001b[0m\u001b[0;34m.\u001b[0m\u001b[0mpython\u001b[0m\u001b[0;34m.\u001b[0m\u001b[0mops\u001b[0m\u001b[0;34m.\u001b[0m\u001b[0mbigquery_reader_ops\u001b[0m \u001b[0;32mimport\u001b[0m \u001b[0;34m*\u001b[0m\u001b[0;34m\u001b[0m\u001b[0;34m\u001b[0m\u001b[0m\n\u001b[0m\u001b[1;32m     25\u001b[0m \u001b[0;32mfrom\u001b[0m \u001b[0mtensorflow\u001b[0m\u001b[0;34m.\u001b[0m\u001b[0mcontrib\u001b[0m\u001b[0;34m.\u001b[0m\u001b[0mcloud\u001b[0m\u001b[0;34m.\u001b[0m\u001b[0mpython\u001b[0m\u001b[0;34m.\u001b[0m\u001b[0mops\u001b[0m\u001b[0;34m.\u001b[0m\u001b[0mgcs_config_ops\u001b[0m \u001b[0;32mimport\u001b[0m \u001b[0;34m*\u001b[0m\u001b[0;34m\u001b[0m\u001b[0;34m\u001b[0m\u001b[0m\n\u001b[1;32m     26\u001b[0m \u001b[0;34m\u001b[0m\u001b[0m\n",
            "\u001b[0;32m/usr/local/lib/python3.7/dist-packages/tensorflow/contrib/cloud/python/ops/bigquery_reader_ops.py\u001b[0m in \u001b[0;36m<module>\u001b[0;34m()\u001b[0m\n\u001b[1;32m     19\u001b[0m \u001b[0;32mfrom\u001b[0m \u001b[0m__future__\u001b[0m \u001b[0;32mimport\u001b[0m \u001b[0mprint_function\u001b[0m\u001b[0;34m\u001b[0m\u001b[0;34m\u001b[0m\u001b[0m\n\u001b[1;32m     20\u001b[0m \u001b[0;34m\u001b[0m\u001b[0m\n\u001b[0;32m---> 21\u001b[0;31m \u001b[0;32mfrom\u001b[0m \u001b[0mtensorflow\u001b[0m\u001b[0;34m.\u001b[0m\u001b[0mcontrib\u001b[0m\u001b[0;34m.\u001b[0m\u001b[0mcloud\u001b[0m\u001b[0;34m.\u001b[0m\u001b[0mpython\u001b[0m\u001b[0;34m.\u001b[0m\u001b[0mops\u001b[0m \u001b[0;32mimport\u001b[0m \u001b[0mgen_bigquery_reader_ops\u001b[0m\u001b[0;34m\u001b[0m\u001b[0;34m\u001b[0m\u001b[0m\n\u001b[0m\u001b[1;32m     22\u001b[0m \u001b[0;32mfrom\u001b[0m \u001b[0mtensorflow\u001b[0m\u001b[0;34m.\u001b[0m\u001b[0mpython\u001b[0m\u001b[0;34m.\u001b[0m\u001b[0mframework\u001b[0m \u001b[0;32mimport\u001b[0m \u001b[0mops\u001b[0m\u001b[0;34m\u001b[0m\u001b[0;34m\u001b[0m\u001b[0m\n\u001b[1;32m     23\u001b[0m \u001b[0;32mfrom\u001b[0m \u001b[0mtensorflow\u001b[0m\u001b[0;34m.\u001b[0m\u001b[0mpython\u001b[0m\u001b[0;34m.\u001b[0m\u001b[0mops\u001b[0m \u001b[0;32mimport\u001b[0m \u001b[0mio_ops\u001b[0m\u001b[0;34m\u001b[0m\u001b[0;34m\u001b[0m\u001b[0m\n",
            "\u001b[0;32m/usr/local/lib/python3.7/dist-packages/tensorflow/contrib/cloud/python/ops/gen_bigquery_reader_ops.py\u001b[0m in \u001b[0;36m<module>\u001b[0;34m()\u001b[0m\n\u001b[1;32m    367\u001b[0m \u001b[0;31m#   }\u001b[0m\u001b[0;34m\u001b[0m\u001b[0;34m\u001b[0m\u001b[0;34m\u001b[0m\u001b[0m\n\u001b[1;32m    368\u001b[0m \u001b[0;31m# }\u001b[0m\u001b[0;34m\u001b[0m\u001b[0;34m\u001b[0m\u001b[0;34m\u001b[0m\u001b[0m\n\u001b[0;32m--> 369\u001b[0;31m \u001b[0m_op_def_lib\u001b[0m \u001b[0;34m=\u001b[0m \u001b[0m_InitOpDefLibrary\u001b[0m\u001b[0;34m(\u001b[0m\u001b[0;34mb\"\\n\\355\\001\\n\\016BigQueryReader\\032\\024\\n\\rreader_handle\\030\\007\\200\\001\\001\\\"\\027\\n\\tcontainer\\022\\006string\\032\\002\\022\\000\\\"\\031\\n\\013shared_name\\022\\006string\\032\\002\\022\\000\\\"\\024\\n\\nproject_id\\022\\006string\\\"\\024\\n\\ndataset_id\\022\\006string\\\"\\022\\n\\010table_id\\022\\006string\\\"\\027\\n\\007columns\\022\\014list(string)\\\"\\027\\n\\020timestamp_millis\\022\\003int\\\"\\034\\n\\016test_end_point\\022\\006string\\032\\002\\022\\000\\210\\001\\001\\n\\331\\001\\n GenerateBigQueryReaderPartitions\\032\\016\\n\\npartitions\\030\\007\\\"\\024\\n\\nproject_id\\022\\006string\\\"\\024\\n\\ndataset_id\\022\\006string\\\"\\022\\n\\010table_id\\022\\006string\\\"\\027\\n\\007columns\\022\\014list(string)\\\"\\027\\n\\020timestamp_millis\\022\\003int\\\"\\025\\n\\016num_partitions\\022\\003int\\\"\\034\\n\\016test_end_point\\022\\006string\\032\\002\\022\\000\"\u001b[0m\u001b[0;34m)\u001b[0m\u001b[0;34m\u001b[0m\u001b[0;34m\u001b[0m\u001b[0m\n\u001b[0m",
            "\u001b[0;32m/usr/local/lib/python3.7/dist-packages/tensorflow/contrib/cloud/python/ops/gen_bigquery_reader_ops.py\u001b[0m in \u001b[0;36m_InitOpDefLibrary\u001b[0;34m(op_list_proto_bytes)\u001b[0m\n\u001b[1;32m    275\u001b[0m   \u001b[0mop_list\u001b[0m \u001b[0;34m=\u001b[0m \u001b[0m_op_def_pb2\u001b[0m\u001b[0;34m.\u001b[0m\u001b[0mOpList\u001b[0m\u001b[0;34m(\u001b[0m\u001b[0;34m)\u001b[0m\u001b[0;34m\u001b[0m\u001b[0;34m\u001b[0m\u001b[0m\n\u001b[1;32m    276\u001b[0m   \u001b[0mop_list\u001b[0m\u001b[0;34m.\u001b[0m\u001b[0mParseFromString\u001b[0m\u001b[0;34m(\u001b[0m\u001b[0mop_list_proto_bytes\u001b[0m\u001b[0;34m)\u001b[0m\u001b[0;34m\u001b[0m\u001b[0;34m\u001b[0m\u001b[0m\n\u001b[0;32m--> 277\u001b[0;31m   \u001b[0m_op_def_registry\u001b[0m\u001b[0;34m.\u001b[0m\u001b[0mregister_op_list\u001b[0m\u001b[0;34m(\u001b[0m\u001b[0mop_list\u001b[0m\u001b[0;34m)\u001b[0m\u001b[0;34m\u001b[0m\u001b[0;34m\u001b[0m\u001b[0m\n\u001b[0m\u001b[1;32m    278\u001b[0m   \u001b[0mop_def_lib\u001b[0m \u001b[0;34m=\u001b[0m \u001b[0m_op_def_library\u001b[0m\u001b[0;34m.\u001b[0m\u001b[0mOpDefLibrary\u001b[0m\u001b[0;34m(\u001b[0m\u001b[0;34m)\u001b[0m\u001b[0;34m\u001b[0m\u001b[0;34m\u001b[0m\u001b[0m\n\u001b[1;32m    279\u001b[0m   \u001b[0mop_def_lib\u001b[0m\u001b[0;34m.\u001b[0m\u001b[0madd_op_list\u001b[0m\u001b[0;34m(\u001b[0m\u001b[0mop_list\u001b[0m\u001b[0;34m)\u001b[0m\u001b[0;34m\u001b[0m\u001b[0;34m\u001b[0m\u001b[0m\n",
            "\u001b[0;31mAttributeError\u001b[0m: module 'tensorflow.python.framework.op_def_registry' has no attribute 'register_op_list'"
          ]
        }
      ]
    },
    {
      "cell_type": "code",
      "metadata": {
        "colab": {
          "base_uri": "https://localhost:8080/",
          "height": 178
        },
        "id": "jxBwz5takmq0",
        "outputId": "363047b6-e18b-445a-eac2-8c96526a08bc"
      },
      "source": [
        "model=A2C('M1pLstmpolicy', env, verbose=1)\n",
        "model,learn(total_timesteps=100000)"
      ],
      "execution_count": 37,
      "outputs": [
        {
          "output_type": "error",
          "ename": "NameError",
          "evalue": "ignored",
          "traceback": [
            "\u001b[0;31m---------------------------------------------------------------------------\u001b[0m",
            "\u001b[0;31mNameError\u001b[0m                                 Traceback (most recent call last)",
            "\u001b[0;32m<ipython-input-37-58c719e188bd>\u001b[0m in \u001b[0;36m<module>\u001b[0;34m()\u001b[0m\n\u001b[0;32m----> 1\u001b[0;31m \u001b[0mmodel\u001b[0m\u001b[0;34m=\u001b[0m\u001b[0mA2C\u001b[0m\u001b[0;34m(\u001b[0m\u001b[0;34m'M1pLstmpolicy'\u001b[0m\u001b[0;34m,\u001b[0m \u001b[0menv\u001b[0m\u001b[0;34m,\u001b[0m \u001b[0mverbose\u001b[0m\u001b[0;34m=\u001b[0m\u001b[0;36m1\u001b[0m\u001b[0;34m)\u001b[0m\u001b[0;34m\u001b[0m\u001b[0;34m\u001b[0m\u001b[0m\n\u001b[0m\u001b[1;32m      2\u001b[0m \u001b[0mmodel\u001b[0m\u001b[0;34m,\u001b[0m\u001b[0mlearn\u001b[0m\u001b[0;34m(\u001b[0m\u001b[0mtotal_timesteps\u001b[0m\u001b[0;34m=\u001b[0m\u001b[0;36m100000\u001b[0m\u001b[0;34m)\u001b[0m\u001b[0;34m\u001b[0m\u001b[0;34m\u001b[0m\u001b[0m\n",
            "\u001b[0;31mNameError\u001b[0m: name 'A2C' is not defined"
          ]
        }
      ]
    }
  ]
}